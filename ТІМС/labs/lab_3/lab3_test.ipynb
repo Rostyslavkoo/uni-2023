{
 "cells": [
  {
   "cell_type": "code",
   "execution_count": 937,
   "metadata": {},
   "outputs": [],
   "source": [
    "import numpy as np\n",
    "import pandas as pd\n",
    "import matplotlib.pyplot as plt\n",
    "import math\n"
   ]
  },
  {
   "cell_type": "markdown",
   "metadata": {},
   "source": [
    "## Кореляційна таблиця"
   ]
  },
  {
   "cell_type": "code",
   "execution_count": 938,
   "metadata": {},
   "outputs": [
    {
     "data": {
      "text/html": [
       "<div>\n",
       "<style scoped>\n",
       "    .dataframe tbody tr th:only-of-type {\n",
       "        vertical-align: middle;\n",
       "    }\n",
       "\n",
       "    .dataframe tbody tr th {\n",
       "        vertical-align: top;\n",
       "    }\n",
       "\n",
       "    .dataframe thead th {\n",
       "        text-align: right;\n",
       "    }\n",
       "</style>\n",
       "<table border=\"1\" class=\"dataframe\">\n",
       "  <thead>\n",
       "    <tr style=\"text-align: right;\">\n",
       "      <th></th>\n",
       "      <th>3</th>\n",
       "      <th>5</th>\n",
       "      <th>7</th>\n",
       "      <th>9</th>\n",
       "      <th>13</th>\n",
       "      <th>15</th>\n",
       "      <th>17</th>\n",
       "    </tr>\n",
       "  </thead>\n",
       "  <tbody>\n",
       "    <tr>\n",
       "      <th>1.0</th>\n",
       "      <td>23</td>\n",
       "      <td>0</td>\n",
       "      <td>0</td>\n",
       "      <td>0</td>\n",
       "      <td>0</td>\n",
       "      <td>0</td>\n",
       "      <td>0</td>\n",
       "    </tr>\n",
       "    <tr>\n",
       "      <th>1.5</th>\n",
       "      <td>2</td>\n",
       "      <td>19</td>\n",
       "      <td>0</td>\n",
       "      <td>0</td>\n",
       "      <td>0</td>\n",
       "      <td>0</td>\n",
       "      <td>0</td>\n",
       "    </tr>\n",
       "    <tr>\n",
       "      <th>2.0</th>\n",
       "      <td>0</td>\n",
       "      <td>3</td>\n",
       "      <td>32</td>\n",
       "      <td>2</td>\n",
       "      <td>0</td>\n",
       "      <td>0</td>\n",
       "      <td>0</td>\n",
       "    </tr>\n",
       "    <tr>\n",
       "      <th>3.0</th>\n",
       "      <td>0</td>\n",
       "      <td>0</td>\n",
       "      <td>8</td>\n",
       "      <td>23</td>\n",
       "      <td>5</td>\n",
       "      <td>0</td>\n",
       "      <td>0</td>\n",
       "    </tr>\n",
       "    <tr>\n",
       "      <th>3.5</th>\n",
       "      <td>0</td>\n",
       "      <td>0</td>\n",
       "      <td>0</td>\n",
       "      <td>2</td>\n",
       "      <td>17</td>\n",
       "      <td>4</td>\n",
       "      <td>0</td>\n",
       "    </tr>\n",
       "    <tr>\n",
       "      <th>4.0</th>\n",
       "      <td>0</td>\n",
       "      <td>0</td>\n",
       "      <td>0</td>\n",
       "      <td>0</td>\n",
       "      <td>0</td>\n",
       "      <td>20</td>\n",
       "      <td>3</td>\n",
       "    </tr>\n",
       "  </tbody>\n",
       "</table>\n",
       "</div>"
      ],
      "text/plain": [
       "     3   5   7   9   13  15  17\n",
       "1.0  23   0   0   0   0   0   0\n",
       "1.5   2  19   0   0   0   0   0\n",
       "2.0   0   3  32   2   0   0   0\n",
       "3.0   0   0   8  23   5   0   0\n",
       "3.5   0   0   0   2  17   4   0\n",
       "4.0   0   0   0   0   0  20   3"
      ]
     },
     "execution_count": 938,
     "metadata": {},
     "output_type": "execute_result"
    }
   ],
   "source": [
    "data = {\n",
    "    3: [23, 2, 0, 0, 0, 0],\n",
    "    5: [0, 19, 3, 0, 0, 0],\n",
    "    7: [0, 0, 32, 8, 0, 0],\n",
    "    9: [0, 0, 2, 23, 2, 0],\n",
    "    13: [0, 0, 0, 5, 17, 0],\n",
    "    15: [0, 0, 0, 0, 4, 20],\n",
    "    17: [0, 0, 0, 0, 0, 3]\n",
    "}\n",
    "index = [1, 1.5, 2, 3, 3.5, 4] \n",
    "df_data = pd.DataFrame(data, index=index)\n",
    "df_data"
   ]
  },
  {
   "cell_type": "code",
   "execution_count": 939,
   "metadata": {},
   "outputs": [],
   "source": [
    "def calculate_conditional_means(matrix):\n",
    "    index_values = matrix.index.astype(float) \n",
    "    return matrix.apply(lambda x: sum(x * index_values) / sum(x) if sum(x) != 0 else 0, axis=0)\n"
   ]
  },
  {
   "cell_type": "markdown",
   "metadata": {},
   "source": [
    "### 1. Умовнi середнi"
   ]
  },
  {
   "cell_type": "code",
   "execution_count": 940,
   "metadata": {},
   "outputs": [
    {
     "name": "stdout",
     "output_type": "stream",
     "text": [
      "   x        y\n",
      " 3.0 1.040000\n",
      " 5.0 1.568182\n",
      " 7.0 2.200000\n",
      " 9.0 2.962963\n",
      "13.0 3.386364\n",
      "15.0 3.916667\n",
      "17.0 4.000000\n"
     ]
    }
   ],
   "source": [
    "y_conditional_means = calculate_conditional_means(df_data)\n",
    "\n",
    "x_values = y_conditional_means.index.astype(float)\n",
    "y_values = y_conditional_means.values.astype(float)\n",
    "\n",
    "df = pd.DataFrame({'x': x_values, 'y': y_values})\n",
    "print(df.to_string(index=False))\n"
   ]
  },
  {
   "cell_type": "markdown",
   "metadata": {},
   "source": [
    "## 2. Поле кореляцiї"
   ]
  },
  {
   "cell_type": "code",
   "execution_count": 941,
   "metadata": {},
   "outputs": [
    {
     "data": {
      "image/png": "[encoded data removed]",
      "text/plain": [
       "<Figure size 640x480 with 1 Axes>"
      ]
     },
     "metadata": {},
     "output_type": "display_data"
    }
   ],
   "source": [
    "plt.plot(x_values, y_values,)\n",
    "plt.show()"
   ]
  },
  {
   "cell_type": "markdown",
   "metadata": {},
   "source": [
    "## 3. Коренева кореляція y = a√x + b"
   ]
  },
  {
   "cell_type": "markdown",
   "metadata": {},
   "source": []
  },
  {
   "cell_type": "code",
   "execution_count": 942,
   "metadata": {},
   "outputs": [],
   "source": [
    "n_i = np.array(df_data.sum(axis=0))\n"
   ]
  },
  {
   "cell_type": "code",
   "execution_count": 943,
   "metadata": {},
   "outputs": [],
   "source": [
    "def gauss_elimination_root_correlation(x_i, y_xi, n_i):\n",
    "    sum_n_sqrt_x = sum(n * np.sqrt(x) for n, x in zip(n_i, x_i))\n",
    "    sum_n_x = sum(n * x for n, x in zip(n_i, x_i))\n",
    "    sum_n = sum(n_i)\n",
    "\n",
    "    sum_n_y_n = sum(n * y for n, y in zip(n_i, y_xi))\n",
    "    sum_n_y_sqrt_x = sum(n * y * np.sqrt(x) for n, x, y in zip(n_i, x_i, y_xi))\n",
    "    sum_n_y_x = sum(n * y * x for n, x, y in zip(n_i, x_i, y_xi))\n",
    "\n",
    "    A = np.array([\n",
    "        [sum(n_i * np.sqrt(x) for n_i, x in zip(n_i, x_i)), sum_n, sum_n_y_n],\n",
    "        [sum_n_x, sum_n_sqrt_x, sum_n_y_sqrt_x]\n",
    "    ], dtype=float)\n",
    "\n",
    "    def temp(A):\n",
    "        n = len(A)\n",
    "        for i in range(n):\n",
    "            A[i] = A[i] / A[i, i]\n",
    "            for j in range(i+1, n):\n",
    "                A[j] = A[j] - A[j, i] * A[i]\n",
    "\n",
    "        x = np.zeros(n)\n",
    "        for i in range(n-1, -1, -1):\n",
    "            x[i] = A[i, -1] - np.dot(A[i, i+1:n], x[i+1:n])\n",
    "        return x\n",
    "\n",
    "    coefficients = temp(A)\n",
    "\n",
    "    a, b = coefficients\n",
    "\n",
    "    return a, b"
   ]
  },
  {
   "cell_type": "code",
   "execution_count": 944,
   "metadata": {},
   "outputs": [
    {
     "data": {
      "text/plain": [
       "(1.3392724090629646, -1.3029408473652275)"
      ]
     },
     "execution_count": 944,
     "metadata": {},
     "output_type": "execute_result"
    }
   ],
   "source": [
    "a, b = gauss_elimination_root_correlation(x_values, y_values, n_i)\n",
    "a,b"
   ]
  },
  {
   "cell_type": "markdown",
   "metadata": {},
   "source": [
    "## Графіки"
   ]
  },
  {
   "cell_type": "code",
   "execution_count": 945,
   "metadata": {},
   "outputs": [],
   "source": [
    "def plot_sqrt_corr(a, b, x, y):\n",
    "    def f(x):\n",
    "        return a * np.sqrt(x) + b\n",
    "    \n",
    "\n",
    "    plt.plot(x, y, label=\"Функція\")\n",
    "    plt.plot(x, f(x), label=\"Коренева кореляція\")\n",
    "\n",
    "    plt.legend()\n",
    "\n",
    "    plt.show()\n"
   ]
  },
  {
   "cell_type": "code",
   "execution_count": 946,
   "metadata": {},
   "outputs": [
    {
     "data": {
      "image/png": "[encoded data removed]",
      "text/plain": [
       "<Figure size 640x480 with 1 Axes>"
      ]
     },
     "metadata": {},
     "output_type": "display_data"
    }
   ],
   "source": [
    "plot_sqrt_corr(a, b, x_values, y_values)\n"
   ]
  },
  {
   "cell_type": "markdown",
   "metadata": {},
   "source": [
    "## Рівняння "
   ]
  },
  {
   "cell_type": "code",
   "execution_count": 947,
   "metadata": {},
   "outputs": [
    {
     "name": "stdout",
     "output_type": "stream",
     "text": [
      "1.3392724090629646√x + -1.3029408473652275\n"
     ]
    }
   ],
   "source": [
    "\n",
    "print(f\"{a}√x + {b}\")\n"
   ]
  },
  {
   "cell_type": "markdown",
   "metadata": {},
   "source": [
    "## Дисперсія"
   ]
  },
  {
   "cell_type": "code",
   "execution_count": 948,
   "metadata": {},
   "outputs": [
    {
     "name": "stdout",
     "output_type": "stream",
     "text": [
      "Дисперсія:  0.08861522147592434\n"
     ]
    }
   ],
   "source": [
    "def dispersion(x_i, y_i, n_ij):\n",
    "    n = sum(sum(n_ij[i]) for i in range(len(n_ij)))\n",
    "    def f(x):\n",
    "        return a * np.sqrt(x) + b\n",
    "    return sum([(y_i[j] - f(x_i[i])) ** 2 * n_ij[j][i] for j in range(len(y_i)) for i in range(len(x_i))]) / n\n",
    "\n",
    "my_dispersion = dispersion(x_values, np.array(df_data.index), n_ij = np.array(df_data))\n",
    "print('Дисперсія: ', my_dispersion)"
   ]
  },
  {
   "cell_type": "markdown",
   "metadata": {},
   "source": [
    "## Відхилення\n"
   ]
  },
  {
   "cell_type": "code",
   "execution_count": 949,
   "metadata": {},
   "outputs": [],
   "source": [
    "def scattering(x_i, y_i, n_i):\n",
    "    def f(x):\n",
    "        return a * np.sqrt(x) + b\n",
    "    \n",
    "    return sum([(y_i[i] - f(x_i[i])) ** 2 * n_i[i] for i in range(len(x_i))])"
   ]
  },
  {
   "cell_type": "code",
   "execution_count": 951,
   "metadata": {},
   "outputs": [
    {
     "name": "stdout",
     "output_type": "stream",
     "text": [
      "Сума квадратiв вiдхилень δ2:  2.674348440643004\n"
     ]
    }
   ],
   "source": [
    "print(\"Сума квадратiв вiдхилень δ2: \", scattering(x_values,y_values,n_i)\n",
    ")\n"
   ]
  }
 ],
 "metadata": {
  "kernelspec": {
   "display_name": "Python 3",
   "language": "python",
   "name": "python3"
  },
  "language_info": {
   "codemirror_mode": {
    "name": "ipython",
    "version": 3
   },
   "file_extension": ".py",
   "mimetype": "text/x-python",
   "name": "python",
   "nbconvert_exporter": "python",
   "pygments_lexer": "ipython3",
   "version": "3.10.8"
  }
 },
 "nbformat": 4,
 "nbformat_minor": 2
}
