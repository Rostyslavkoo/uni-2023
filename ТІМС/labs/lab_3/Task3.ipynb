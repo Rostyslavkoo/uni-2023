{
 "cells": [
  {
   "cell_type": "markdown",
   "metadata": {},
   "source": [
    "Варіант: 18"
   ]
  },
  {
   "cell_type": "code",
   "execution_count": 6,
   "metadata": {},
   "outputs": [],
   "source": [
    "import numpy as np\n",
    "import pandas as pd\n",
    "import matplotlib.pyplot as plt"
   ]
  },
  {
   "cell_type": "code",
   "execution_count": 7,
   "metadata": {},
   "outputs": [
    {
     "data": {
      "text/html": [
       "<div>\n",
       "<style scoped>\n",
       "    .dataframe tbody tr th:only-of-type {\n",
       "        vertical-align: middle;\n",
       "    }\n",
       "\n",
       "    .dataframe tbody tr th {\n",
       "        vertical-align: top;\n",
       "    }\n",
       "\n",
       "    .dataframe thead th {\n",
       "        text-align: right;\n",
       "    }\n",
       "</style>\n",
       "<table border=\"1\" class=\"dataframe\">\n",
       "  <thead>\n",
       "    <tr style=\"text-align: right;\">\n",
       "      <th></th>\n",
       "      <th>1</th>\n",
       "      <th>2</th>\n",
       "      <th>4</th>\n",
       "      <th>6</th>\n",
       "      <th>9</th>\n",
       "      <th>11</th>\n",
       "      <th>12</th>\n",
       "    </tr>\n",
       "    <tr>\n",
       "      <th>yi</th>\n",
       "      <th></th>\n",
       "      <th></th>\n",
       "      <th></th>\n",
       "      <th></th>\n",
       "      <th></th>\n",
       "      <th></th>\n",
       "      <th></th>\n",
       "    </tr>\n",
       "  </thead>\n",
       "  <tbody>\n",
       "    <tr>\n",
       "      <th>3</th>\n",
       "      <td>0</td>\n",
       "      <td>0</td>\n",
       "      <td>0</td>\n",
       "      <td>0</td>\n",
       "      <td>0</td>\n",
       "      <td>7</td>\n",
       "      <td>31</td>\n",
       "    </tr>\n",
       "    <tr>\n",
       "      <th>4</th>\n",
       "      <td>0</td>\n",
       "      <td>0</td>\n",
       "      <td>0</td>\n",
       "      <td>2</td>\n",
       "      <td>21</td>\n",
       "      <td>4</td>\n",
       "      <td>0</td>\n",
       "    </tr>\n",
       "    <tr>\n",
       "      <th>5</th>\n",
       "      <td>0</td>\n",
       "      <td>0</td>\n",
       "      <td>4</td>\n",
       "      <td>12</td>\n",
       "      <td>6</td>\n",
       "      <td>0</td>\n",
       "      <td>0</td>\n",
       "    </tr>\n",
       "    <tr>\n",
       "      <th>7</th>\n",
       "      <td>0</td>\n",
       "      <td>3</td>\n",
       "      <td>22</td>\n",
       "      <td>5</td>\n",
       "      <td>0</td>\n",
       "      <td>0</td>\n",
       "      <td>0</td>\n",
       "    </tr>\n",
       "    <tr>\n",
       "      <th>10</th>\n",
       "      <td>4</td>\n",
       "      <td>20</td>\n",
       "      <td>0</td>\n",
       "      <td>0</td>\n",
       "      <td>0</td>\n",
       "      <td>0</td>\n",
       "      <td>0</td>\n",
       "    </tr>\n",
       "    <tr>\n",
       "      <th>12</th>\n",
       "      <td>23</td>\n",
       "      <td>0</td>\n",
       "      <td>0</td>\n",
       "      <td>0</td>\n",
       "      <td>0</td>\n",
       "      <td>0</td>\n",
       "      <td>0</td>\n",
       "    </tr>\n",
       "  </tbody>\n",
       "</table>\n",
       "</div>"
      ],
      "text/plain": [
       "     1   2   4   6   9  11  12\n",
       "yi                            \n",
       "3    0   0   0   0   0   7  31\n",
       "4    0   0   0   2  21   4   0\n",
       "5    0   0   4  12   6   0   0\n",
       "7    0   3  22   5   0   0   0\n",
       "10   4  20   0   0   0   0   0\n",
       "12  23   0   0   0   0   0   0"
      ]
     },
     "execution_count": 7,
     "metadata": {},
     "output_type": "execute_result"
    }
   ],
   "source": [
    "df_matrix = pd.read_csv(\"matrix.csv\").set_index(\"yi\")\n",
    "df_matrix"
   ]
  },
  {
   "cell_type": "code",
   "execution_count": 8,
   "metadata": {},
   "outputs": [],
   "source": [
    "def y_cond_mean(matrix):\n",
    "    ind = matrix.index\n",
    "    matr_temp = matrix.apply(lambda x: sum(x * ind)/sum(x), axis=0)\n",
    "    return matr_temp"
   ]
  },
  {
   "cell_type": "code",
   "execution_count": 9,
   "metadata": {},
   "outputs": [],
   "source": [
    "y_c_mean = y_cond_mean(df_matrix)\n",
    "\n",
    "x = np.array(y_c_mean.index).astype(float)\n",
    "y = np.array(y_c_mean.values).astype(float)"
   ]
  },
  {
   "cell_type": "code",
   "execution_count": 10,
   "metadata": {},
   "outputs": [
    {
     "data": {
      "text/html": [
       "<div>\n",
       "<style scoped>\n",
       "    .dataframe tbody tr th:only-of-type {\n",
       "        vertical-align: middle;\n",
       "    }\n",
       "\n",
       "    .dataframe tbody tr th {\n",
       "        vertical-align: top;\n",
       "    }\n",
       "\n",
       "    .dataframe thead th {\n",
       "        text-align: right;\n",
       "    }\n",
       "</style>\n",
       "<table border=\"1\" class=\"dataframe\">\n",
       "  <thead>\n",
       "    <tr style=\"text-align: right;\">\n",
       "      <th></th>\n",
       "      <th>x</th>\n",
       "      <th>y</th>\n",
       "    </tr>\n",
       "  </thead>\n",
       "  <tbody>\n",
       "    <tr>\n",
       "      <th>0</th>\n",
       "      <td>1.0</td>\n",
       "      <td>11.703704</td>\n",
       "    </tr>\n",
       "    <tr>\n",
       "      <th>1</th>\n",
       "      <td>2.0</td>\n",
       "      <td>9.608696</td>\n",
       "    </tr>\n",
       "    <tr>\n",
       "      <th>2</th>\n",
       "      <td>4.0</td>\n",
       "      <td>6.692308</td>\n",
       "    </tr>\n",
       "    <tr>\n",
       "      <th>3</th>\n",
       "      <td>6.0</td>\n",
       "      <td>5.421053</td>\n",
       "    </tr>\n",
       "    <tr>\n",
       "      <th>4</th>\n",
       "      <td>9.0</td>\n",
       "      <td>4.222222</td>\n",
       "    </tr>\n",
       "    <tr>\n",
       "      <th>5</th>\n",
       "      <td>11.0</td>\n",
       "      <td>3.363636</td>\n",
       "    </tr>\n",
       "    <tr>\n",
       "      <th>6</th>\n",
       "      <td>12.0</td>\n",
       "      <td>3.000000</td>\n",
       "    </tr>\n",
       "  </tbody>\n",
       "</table>\n",
       "</div>"
      ],
      "text/plain": [
       "      x          y\n",
       "0   1.0  11.703704\n",
       "1   2.0   9.608696\n",
       "2   4.0   6.692308\n",
       "3   6.0   5.421053\n",
       "4   9.0   4.222222\n",
       "5  11.0   3.363636\n",
       "6  12.0   3.000000"
      ]
     },
     "execution_count": 10,
     "metadata": {},
     "output_type": "execute_result"
    }
   ],
   "source": [
    "pd.DataFrame({'x': x, 'y': y})"
   ]
  },
  {
   "cell_type": "code",
   "execution_count": 11,
   "metadata": {},
   "outputs": [],
   "source": [
    "def plot_regression_compare(x, y):\n",
    "    plt.plot(x, y, label=\"Дана функція\")\n",
    "    plt.title(\"Поле кореляції\")\n",
    "    plt.legend()\n",
    "\n",
    "\n",
    "    plt.show()"
   ]
  },
  {
   "cell_type": "code",
   "execution_count": 12,
   "metadata": {},
   "outputs": [
    {
     "data": {
      "image/png": "[encoded data removed]",
      "text/plain": [
       "<Figure size 640x480 with 1 Axes>"
      ]
     },
     "metadata": {},
     "output_type": "display_data"
    }
   ],
   "source": [
    "plot_regression_compare(x, y)"
   ]
  },
  {
   "cell_type": "markdown",
   "metadata": {},
   "source": [
    "Припускаємо що маємо справу з параболiчною кореляцiєю другого порядку y=ax^2 + bx + c"
   ]
  },
  {
   "cell_type": "code",
   "execution_count": 13,
   "metadata": {},
   "outputs": [
    {
     "data": {
      "text/plain": [
       "array([27, 23, 26, 19, 27, 11, 31], dtype=int64)"
      ]
     },
     "execution_count": 13,
     "metadata": {},
     "output_type": "execute_result"
    }
   ],
   "source": [
    "n_i = np.array(df_matrix.sum(axis=0))\n",
    "n_i"
   ]
  },
  {
   "cell_type": "code",
   "execution_count": 14,
   "metadata": {},
   "outputs": [],
   "source": [
    "def gauss_elimination(x_i, y_xi, n_i):\n",
    "    sum_n_x4 = sum(n * (x**4) for n, x in zip(n_i, x_i))\n",
    "    sum_n_x3 = sum(n * (x**3) for n, x in zip(n_i, x_i))\n",
    "    sum_n_x2 = sum(n * (x**2) for n, x in zip(n_i, x_i))\n",
    "    sum_n_x = sum(n * x for n, x in zip(n_i, x_i))\n",
    "    sum_n = sum(n_i)\n",
    "\n",
    "    sum_n_y_x2 = sum(n * y * (x**2) for n, x, y in zip(n_i, x_i, y_xi))\n",
    "    sum_n_y_x = sum(n * y * x for n, x, y in zip(n_i, x_i, y_xi))\n",
    "    sum_n_y = sum(n * y for n, y in zip(n_i, y_xi))\n",
    "\n",
    "    A = np.array([\n",
    "        [sum_n_x4, sum_n_x3, sum_n_x2, sum_n_y_x2],\n",
    "        [sum_n_x3, sum_n_x2, sum_n_x, sum_n_y_x],\n",
    "        [sum_n_x2, sum_n_x, sum_n, sum_n_y]\n",
    "    ], dtype=float)\n",
    "\n",
    "    def temp(A):\n",
    "        n = len(A)\n",
    "        for i in range(n):\n",
    "            A[i] = A[i] / A[i, i]\n",
    "            for j in range(i+1, n):\n",
    "                A[j] = A[j] - A[j, i] * A[i]\n",
    "\n",
    "\n",
    "        x = np.zeros(n)\n",
    "        for i in range(n-1, -1, -1):\n",
    "            x[i] = A[i, -1] - np.dot(A[i, i+1:n], x[i+1:n])\n",
    "        return x\n",
    "\n",
    "    coefficients = temp(A)\n",
    "\n",
    "    a, b, c = coefficients\n",
    "\n",
    "    return a, b, c\n"
   ]
  },
  {
   "cell_type": "code",
   "execution_count": 15,
   "metadata": {},
   "outputs": [
    {
     "data": {
      "text/plain": [
       "(0.07611717430810384, -1.719969491834323, 12.95155211771333)"
      ]
     },
     "execution_count": 15,
     "metadata": {},
     "output_type": "execute_result"
    }
   ],
   "source": [
    "a, b, c = gauss_elimination(x, y, n_i)\n",
    "a, b, c"
   ]
  },
  {
   "cell_type": "code",
   "execution_count": 16,
   "metadata": {},
   "outputs": [],
   "source": [
    "def plot_par_corr(a, b, c, x, y):\n",
    "    def f(x):\n",
    "        return a*x**2 + b*x + c\n",
    "    \n",
    "    y_f = f(x)\n",
    "\n",
    "    plt.plot(x, y, label=\"Дана функція\")\n",
    "    plt.plot(x, y_f, label=\"Параболічна регресія\")\n",
    "\n",
    "    plt.legend()\n",
    "\n",
    "    plt.show()\n",
    "\n"
   ]
  },
  {
   "cell_type": "code",
   "execution_count": 17,
   "metadata": {},
   "outputs": [
    {
     "name": "stdout",
     "output_type": "stream",
     "text": [
      "Знайдене рівняння: 0.08x^2-1.72x+12.95\n"
     ]
    }
   ],
   "source": [
    "print(f\"Знайдене рівняння: {a:.2f}x^2{b:.2f}x+{c:.2f}\")"
   ]
  },
  {
   "cell_type": "code",
   "execution_count": 18,
   "metadata": {},
   "outputs": [
    {
     "data": {
      "image/png": "[encoded data removed]",
      "text/plain": [
       "<Figure size 640x480 with 1 Axes>"
      ]
     },
     "metadata": {},
     "output_type": "display_data"
    }
   ],
   "source": [
    "plot_par_corr(a, b, c, x, y)"
   ]
  },
  {
   "cell_type": "code",
   "execution_count": 19,
   "metadata": {},
   "outputs": [],
   "source": [
    "def get_func(a, b, c):\n",
    "    return lambda x: a*x**2 + b*x + c"
   ]
  },
  {
   "cell_type": "code",
   "execution_count": 20,
   "metadata": {},
   "outputs": [],
   "source": [
    "f = get_func(a, b, c)"
   ]
  },
  {
   "cell_type": "code",
   "execution_count": 21,
   "metadata": {},
   "outputs": [],
   "source": [
    "def disper(x_i, y_i, n_ij):\n",
    "    n = sum(sum(n_ij[i]) for i in range(len(n_ij)))\n",
    "\n",
    "    return sum([(y_i[j] - f(x_i[i])) ** 2 * n_ij[j][i] for j in range(len(y_i)) for i in range(len(x_i))]) / n\n"
   ]
  },
  {
   "cell_type": "code",
   "execution_count": 22,
   "metadata": {},
   "outputs": [],
   "source": [
    "n_ij = np.array(df_matrix)"
   ]
  },
  {
   "cell_type": "code",
   "execution_count": 23,
   "metadata": {},
   "outputs": [
    {
     "name": "stdout",
     "output_type": "stream",
     "text": [
      "Дисперсія величини Y відносно кривої регресії: 0.6264622022879744\n"
     ]
    }
   ],
   "source": [
    "print(f\"Дисперсія величини Y відносно кривої регресії: {disper(x, np.array(df_matrix.index), n_ij)}\")"
   ]
  },
  {
   "cell_type": "code",
   "execution_count": 24,
   "metadata": {},
   "outputs": [],
   "source": [
    "def scattering(x_i, y_i, n_i):\n",
    "    return sum([(y_i[i] - f(x_i[i])) ** 2 * n_i[i] for i in range(len(x_i))])"
   ]
  },
  {
   "cell_type": "code",
   "execution_count": 25,
   "metadata": {},
   "outputs": [
    {
     "name": "stdout",
     "output_type": "stream",
     "text": [
      "Сума квадратів відхилень середнiх  вiд  значень функцiї регресiї : 26.249748978081808\n"
     ]
    }
   ],
   "source": [
    "print(f\"Сума квадратів відхилень середнiх  вiд  значень функцiї регресiї : {scattering(x, y, n_i)}\")"
   ]
  },
  {
   "cell_type": "code",
   "execution_count": null,
   "metadata": {},
   "outputs": [],
   "source": []
  }
 ],
 "metadata": {
  "kernelspec": {
   "display_name": "Python 3",
   "language": "python",
   "name": "python3"
  },
  "language_info": {
   "codemirror_mode": {
    "name": "ipython",
    "version": 3
   },
   "file_extension": ".py",
   "mimetype": "text/x-python",
   "name": "python",
   "nbconvert_exporter": "python",
   "pygments_lexer": "ipython3",
   "version": "3.11.3"
  }
 },
 "nbformat": 4,
 "nbformat_minor": 2
}
