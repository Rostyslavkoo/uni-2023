{
 "cells": [
  {
   "cell_type": "code",
   "execution_count": 1405,
   "metadata": {},
   "outputs": [],
   "source": [
    "import matplotlib.pyplot as plt\n",
    "import pandas as pd\n",
    "import numpy as np\n",
    "import math\n"
   ]
  },
  {
   "cell_type": "markdown",
   "metadata": {},
   "source": [
    "### Згенерувати вибірку заданого об’єму (не менше 50) з вказаного проміжку для дискретної статистичної змінної.\n"
   ]
  },
  {
   "cell_type": "code",
   "execution_count": 1406,
   "metadata": {},
   "outputs": [
    {
     "data": {
      "text/plain": [
       "[5,\n",
       " 5,\n",
       " 6,\n",
       " 6,\n",
       " 7,\n",
       " 7,\n",
       " 7,\n",
       " 7,\n",
       " 8,\n",
       " 10,\n",
       " 10,\n",
       " 10,\n",
       " 10,\n",
       " 10,\n",
       " 11,\n",
       " 11,\n",
       " 11,\n",
       " 11,\n",
       " 11,\n",
       " 12,\n",
       " 12,\n",
       " 12,\n",
       " 13,\n",
       " 14,\n",
       " 14,\n",
       " 15,\n",
       " 15,\n",
       " 15,\n",
       " 15,\n",
       " 15,\n",
       " 16,\n",
       " 16,\n",
       " 17,\n",
       " 17,\n",
       " 18,\n",
       " 18,\n",
       " 19,\n",
       " 19,\n",
       " 20,\n",
       " 20,\n",
       " 20,\n",
       " 21,\n",
       " 22,\n",
       " 22,\n",
       " 23,\n",
       " 23,\n",
       " 23,\n",
       " 25,\n",
       " 25,\n",
       " 25]"
      ]
     },
     "execution_count": 1406,
     "metadata": {},
     "output_type": "execute_result"
    }
   ],
   "source": [
    "def create_sample(size, start, end):\n",
    "    import random\n",
    "    return [random.randint(start, end) for _ in range(size)]\n",
    "\n",
    "# sample = create_sample(20, 1, 10)\n",
    "sample = [5,5,6,6,7,7,7,7,8,10,10,10,10,10,11,11,11,11,11,12,12,12,13,14,14,15,15,15,15,15,16,16,17,17,18,18,19,19,20,20,20,21,22,22,23,23,23,25,25,25]\n",
    "sample"
   ]
  },
  {
   "cell_type": "markdown",
   "metadata": {},
   "source": [
    "# Завдання 1 (Дискретний розподіл:)"
   ]
  },
  {
   "cell_type": "markdown",
   "metadata": {},
   "source": [
    "## Побудувати варіаційний ряд\n"
   ]
  },
  {
   "cell_type": "code",
   "execution_count": 1407,
   "metadata": {},
   "outputs": [
    {
     "data": {
      "text/plain": [
       "[5,\n",
       " 5,\n",
       " 6,\n",
       " 6,\n",
       " 7,\n",
       " 7,\n",
       " 7,\n",
       " 7,\n",
       " 8,\n",
       " 10,\n",
       " 10,\n",
       " 10,\n",
       " 10,\n",
       " 10,\n",
       " 11,\n",
       " 11,\n",
       " 11,\n",
       " 11,\n",
       " 11,\n",
       " 12,\n",
       " 12,\n",
       " 12,\n",
       " 13,\n",
       " 14,\n",
       " 14,\n",
       " 15,\n",
       " 15,\n",
       " 15,\n",
       " 15,\n",
       " 15,\n",
       " 16,\n",
       " 16,\n",
       " 17,\n",
       " 17,\n",
       " 18,\n",
       " 18,\n",
       " 19,\n",
       " 19,\n",
       " 20,\n",
       " 20,\n",
       " 20,\n",
       " 21,\n",
       " 22,\n",
       " 22,\n",
       " 23,\n",
       " 23,\n",
       " 23,\n",
       " 25,\n",
       " 25,\n",
       " 25]"
      ]
     },
     "execution_count": 1407,
     "metadata": {},
     "output_type": "execute_result"
    }
   ],
   "source": [
    "def generate_variation_series(sample):\n",
    "    return sorted(sample)\n",
    "\n",
    "variation_series = generate_variation_series(sample)\n",
    "variation_series"
   ]
  },
  {
   "cell_type": "markdown",
   "metadata": {},
   "source": [
    "## Побудувати частотну таблицю пандасом\n"
   ]
  },
  {
   "cell_type": "code",
   "execution_count": 1408,
   "metadata": {},
   "outputs": [
    {
     "data": {
      "text/html": [
       "<div>\n",
       "<style scoped>\n",
       "    .dataframe tbody tr th:only-of-type {\n",
       "        vertical-align: middle;\n",
       "    }\n",
       "\n",
       "    .dataframe tbody tr th {\n",
       "        vertical-align: top;\n",
       "    }\n",
       "\n",
       "    .dataframe thead th {\n",
       "        text-align: right;\n",
       "    }\n",
       "</style>\n",
       "<table border=\"1\" class=\"dataframe\">\n",
       "  <thead>\n",
       "    <tr style=\"text-align: right;\">\n",
       "      <th></th>\n",
       "      <th>y[i]</th>\n",
       "    </tr>\n",
       "    <tr>\n",
       "      <th>x[i]</th>\n",
       "      <th></th>\n",
       "    </tr>\n",
       "  </thead>\n",
       "  <tbody>\n",
       "    <tr>\n",
       "      <th>5</th>\n",
       "      <td>2</td>\n",
       "    </tr>\n",
       "    <tr>\n",
       "      <th>6</th>\n",
       "      <td>2</td>\n",
       "    </tr>\n",
       "    <tr>\n",
       "      <th>7</th>\n",
       "      <td>4</td>\n",
       "    </tr>\n",
       "    <tr>\n",
       "      <th>8</th>\n",
       "      <td>1</td>\n",
       "    </tr>\n",
       "    <tr>\n",
       "      <th>10</th>\n",
       "      <td>5</td>\n",
       "    </tr>\n",
       "    <tr>\n",
       "      <th>11</th>\n",
       "      <td>5</td>\n",
       "    </tr>\n",
       "    <tr>\n",
       "      <th>12</th>\n",
       "      <td>3</td>\n",
       "    </tr>\n",
       "    <tr>\n",
       "      <th>13</th>\n",
       "      <td>1</td>\n",
       "    </tr>\n",
       "    <tr>\n",
       "      <th>14</th>\n",
       "      <td>2</td>\n",
       "    </tr>\n",
       "    <tr>\n",
       "      <th>15</th>\n",
       "      <td>5</td>\n",
       "    </tr>\n",
       "    <tr>\n",
       "      <th>16</th>\n",
       "      <td>2</td>\n",
       "    </tr>\n",
       "    <tr>\n",
       "      <th>17</th>\n",
       "      <td>2</td>\n",
       "    </tr>\n",
       "    <tr>\n",
       "      <th>18</th>\n",
       "      <td>2</td>\n",
       "    </tr>\n",
       "    <tr>\n",
       "      <th>19</th>\n",
       "      <td>2</td>\n",
       "    </tr>\n",
       "    <tr>\n",
       "      <th>20</th>\n",
       "      <td>3</td>\n",
       "    </tr>\n",
       "    <tr>\n",
       "      <th>21</th>\n",
       "      <td>1</td>\n",
       "    </tr>\n",
       "    <tr>\n",
       "      <th>22</th>\n",
       "      <td>2</td>\n",
       "    </tr>\n",
       "    <tr>\n",
       "      <th>23</th>\n",
       "      <td>3</td>\n",
       "    </tr>\n",
       "    <tr>\n",
       "      <th>25</th>\n",
       "      <td>3</td>\n",
       "    </tr>\n",
       "  </tbody>\n",
       "</table>\n",
       "</div>"
      ],
      "text/plain": [
       "      y[i]\n",
       "x[i]      \n",
       "5        2\n",
       "6        2\n",
       "7        4\n",
       "8        1\n",
       "10       5\n",
       "11       5\n",
       "12       3\n",
       "13       1\n",
       "14       2\n",
       "15       5\n",
       "16       2\n",
       "17       2\n",
       "18       2\n",
       "19       2\n",
       "20       3\n",
       "21       1\n",
       "22       2\n",
       "23       3\n",
       "25       3"
      ]
     },
     "execution_count": 1408,
     "metadata": {},
     "output_type": "execute_result"
    }
   ],
   "source": [
    "def generate_frequency_table(variation_series):\n",
    "    frequency_table = {}\n",
    "    for i in variation_series:\n",
    "        if i in frequency_table:\n",
    "            frequency_table[i] += 1\n",
    "        else:\n",
    "            frequency_table[i] = 1\n",
    "    return frequency_table\n",
    "\n",
    "frequency_table = generate_frequency_table(variation_series)\n",
    "frequency_table = pd.DataFrame(list(frequency_table.items()), columns=['x[i]', 'y[i]']).set_index('x[i]')\n",
    "frequency_table\n",
    "\n",
    "\n",
    "\n",
    "\n",
    "\n",
    "\n"
   ]
  },
  {
   "cell_type": "markdown",
   "metadata": {},
   "source": [
    "## Представити графічно статистичний матеріал\n"
   ]
  },
  {
   "cell_type": "code",
   "execution_count": 1409,
   "metadata": {},
   "outputs": [
    {
     "data": {
      "image/png": "[encoded data removed]",
      "text/plain": [
       "<Figure size 1500x500 with 2 Axes>"
      ]
     },
     "metadata": {},
     "output_type": "display_data"
    }
   ],
   "source": [
    "def draw_statistical_material(frequency_table):\n",
    "    _, (ax1,ax2) = plt.subplots(1,2, figsize=(15, 5))\n",
    "    ax1.bar(frequency_table.index, frequency_table['y[i]'])\n",
    "    ax1.set_xlabel('x[i]')\n",
    "    ax1.set_ylabel('y[i]')\n",
    "    ax1.set_title('Гістограма частот')\n",
    "\n",
    "    ax2.plot(frequency_table.index, frequency_table['y[i]'])\n",
    "    ax2.set_xlabel('Значення')\n",
    "    ax2.set_ylabel('Частота')\n",
    "    ax2.set_title('Полігон частот')\n",
    "    plt.show()\n",
    "\n",
    "draw_statistical_material(frequency_table)\n",
    "\n"
   ]
  },
  {
   "cell_type": "markdown",
   "metadata": {},
   "source": [
    "## побудувати графік емпіричної функції розподілу;\n"
   ]
  },
  {
   "cell_type": "code",
   "execution_count": 1410,
   "metadata": {},
   "outputs": [
    {
     "data": {
      "image/png": "[encoded data removed]",
      "text/plain": [
       "<Figure size 640x480 with 1 Axes>"
      ]
     },
     "metadata": {},
     "output_type": "display_data"
    }
   ],
   "source": [
    "cumulative_frequencies = [i/len(sample) for i in range(1, len(sample) + 1)]\n",
    "\n",
    "def show_plot(values, cumulative_probs):\n",
    "    # Побудова першої точки\n",
    "    plt.plot([values[0]]*2, [0, cumulative_probs[0]])\n",
    "\n",
    "    # Побудова горизонтальних сегментів для емпіричного розподілу\n",
    "    for i in range(1, len(values)):\n",
    "        plt.plot([values[i-1], values[i]], [cumulative_probs[i-1], cumulative_probs[i-1]])\n",
    "        plt.plot([values[i], values[i]], [cumulative_probs[i-1], cumulative_probs[i]])\n",
    "\n",
    "    # Продовження лінії вправо\n",
    "    plt.plot([values[-1], values[-1]+5], [cumulative_probs[-1], cumulative_probs[-1]])\n",
    "\n",
    "    # Побудова вертикальних штрихованих ліній на кожному значенні\n",
    "    for i in range(len(values)):\n",
    "        plt.plot([values[i]]*2, [0, cumulative_probs[i]], linestyle='dashed')\n",
    "\n",
    "    # Побудова осі x\n",
    "    plt.plot([0, values[-1]+5], [0, 0])\n",
    "\n",
    "    plt.show()\n",
    "\n",
    "show_plot(variation_series, cumulative_frequencies)\n"
   ]
  },
  {
   "cell_type": "markdown",
   "metadata": {},
   "source": [
    "## обчислити числові характеристики дискретного розподілу."
   ]
  },
  {
   "cell_type": "code",
   "execution_count": 1411,
   "metadata": {},
   "outputs": [
    {
     "name": "stdout",
     "output_type": "stream",
     "text": [
      "\n",
      "Числові характеристики:\n",
      "Медіана: 15\n",
      "Мода: [10, 11, 15]\n",
      "Вибіркове середнє значення: 14.48\n",
      "Розмах: 20\n",
      "Девіація: 1652.4799999999998\n",
      "Варіанса: 33.72408163265305\n",
      "Стандарт: 5.807243892988571\n",
      "Варіація: 0.40105275504064714\n",
      "Вибіркова дисперсія: 33.0496\n",
      "Вибіркове середнє квадратичне відхилення: 5.7488781514309375\n",
      "Центральний момент другого порядку: 33.0496\n",
      "Центральний момент третього порядку: 34.25798399999997\n",
      "Центральний момент четвертого порядку: 2168.4038195199996\n",
      "Асиметрія: 0.1803069598548387\n",
      "Ексцес: -1.0147840837943793\n"
     ]
    }
   ],
   "source": [
    "# 4. обчислити числові характеристики дискретного розподілу.\n",
    "def find_median(a):\n",
    "    a_len = len(a)\n",
    "    return (a[a_len//2-1] + a[a_len//2]) / 2 if a_len % 2 == 0 else a[a_len//2]\n",
    "\n",
    "\n",
    "def find_moda(counts, distinct_v):\n",
    "    to_return = []\n",
    "    for i in range(len(counts)):\n",
    "        if counts[i] == np.max(counts):\n",
    "            to_return.append(distinct_v[i])\n",
    "    return to_return\n",
    "\n",
    "def average_(distinct_values, counts):\n",
    "    return np.average(distinct_values, weights=counts)\n",
    "\n",
    "def scope(distinct_values):\n",
    "    return np.ptp(distinct_values)\n",
    "\n",
    "def deviation(distinct_v, counts):\n",
    "    to_return = 0\n",
    "    avg = average_(distinct_v, counts)\n",
    "    for i in range(len(distinct_v)):\n",
    "        to_return += (((distinct_v[i] - avg) ** 2) * counts[i])\n",
    "    return to_return\n",
    "\n",
    "def variance(distinct_v, counts):\n",
    "    return deviation(distinct_v, counts)/(sum(counts)-1)\n",
    "\n",
    "def standart(distinct_v, counts):\n",
    "    return math.sqrt(variance(distinct_v, counts))\n",
    "\n",
    "def variation(distinct_v, counts):\n",
    "    return standart(distinct_v, counts) / average_(distinct_v, counts)\n",
    "\n",
    "def selective_dispersion(distinct_v, counts):\n",
    "    return deviation(distinct_v, counts)/sum(counts)\n",
    "\n",
    "def selective_average_quadratic_deviation(distinct_v, counts):\n",
    "    return math.sqrt(selective_dispersion(distinct_v, counts))\n",
    "\n",
    "def m_k(k, distinct_v, counts):\n",
    "    to_return = 0\n",
    "    _avg = average_(distinct_v, counts)\n",
    "    for i in range(len(distinct_v)):\n",
    "        to_return += ((distinct_v[i] - _avg) ** k) * counts[i]\n",
    "    return to_return/sum(counts)\n",
    "\n",
    "def asymetry(distinct_v, counts):\n",
    "    return m_k(3, distinct_v, counts) / (m_k(2, distinct_v, counts) ** (3/2))\n",
    "\n",
    "def excess(distinct_v, counts):\n",
    "    return m_k(4, distinct_v, counts) / (m_k(2, distinct_v, counts) ** (2)) - 3\n",
    "\n",
    "def print_characteristics(distinct_values, counts):\n",
    "    print(\"\\nЧислові характеристики:\")\n",
    "    print(\"Медіана: \" + str(find_median(distinct_values)))\n",
    "    print(\"Мода: \" + str(find_moda(counts, distinct_values)))\n",
    "    print(\"Вибіркове середнє значення: \" + str(average_(distinct_values, counts)))\n",
    "    print(\"Розмах: \" + str(scope(distinct_values)))\n",
    "    print(\"Девіація: \" + str(deviation(distinct_values, counts)))\n",
    "    print(\"Варіанса: \" + str(variance(distinct_values, counts)))\n",
    "    print(\"Стандарт: \" + str(standart(distinct_values, counts)))\n",
    "    print(\"Варіація: \" + str(variation(distinct_values, counts)))\n",
    "    print(\"Вибіркова дисперсія: \" + str(selective_dispersion(distinct_values, counts)))\n",
    "    print(\"Вибіркове середнє квадратичне відхилення: \" + str(selective_average_quadratic_deviation(distinct_values, counts)))\n",
    "    print(\"Центральний момент другого порядку: \" + str(m_k(2, distinct_values, counts)))\n",
    "    print(\"Центральний момент третього порядку: \" + str(m_k(3, distinct_values, counts)))\n",
    "    print(\"Центральний момент четвертого порядку: \" + str(m_k(4, distinct_values, counts)))\n",
    "    print(\"Асиметрія: \" + str(asymetry(distinct_values, counts)))\n",
    "    print(\"Ексцес: \" + str(excess(distinct_values, counts)))\n",
    "\n",
    "print_characteristics(np.array(list(frequency_table.index)), np.array(list(frequency_table['y[i]'])))\n",
    "\n",
    "\n"
   ]
  },
  {
   "cell_type": "markdown",
   "metadata": {},
   "source": [
    "## Квантилі"
   ]
  },
  {
   "cell_type": "code",
   "execution_count": 1412,
   "metadata": {},
   "outputs": [
    {
     "name": "stdout",
     "output_type": "stream",
     "text": [
      "Децилі: [7, 10, 11, 12, 15, 16, 18, 20, 23]\n",
      "Інтердецильна широта: 16\n",
      "\n"
     ]
    }
   ],
   "source": [
    "def calculate_deciles(a):\n",
    "    if len(a) % 10 == 0:\n",
    "        return [a[int(len(a) / 10 * (i + 1))] for i in range(9)]\n",
    "    else:\n",
    "        return []\n",
    "\n",
    "def get_deciles(a):\n",
    "    deciles = calculate_deciles(a)\n",
    "    if deciles:\n",
    "        print(f\"Децилі: {deciles}\")\n",
    "        print(f\"Інтердецильна широта: {deciles[-1] - deciles[0]}\\n\")\n",
    "    \n",
    "get_deciles(variation_series)\n"
   ]
  },
  {
   "cell_type": "markdown",
   "metadata": {},
   "source": []
  },
  {
   "cell_type": "markdown",
   "metadata": {},
   "source": [
    "# Завдання 2 (Неперервний розподіл)"
   ]
  },
  {
   "cell_type": "code",
   "execution_count": 1413,
   "metadata": {},
   "outputs": [],
   "source": [
    "# Згенерувати вибірку заданого обʼєму (не менше 50) з вказаного проміжку для неперервної статистичної змінної. На підставі отриманих вибіркових даних:\n",
    "# 1.утворити інтервальний статистичний розподіл\n",
    "# 2.побудувати гістограму та графік емпіричної функції розподілу\n",
    "# 3. обчислити числові характеристики."
   ]
  },
  {
   "cell_type": "markdown",
   "metadata": {},
   "source": [
    "## Утворити інтервальний статистичний розподіл"
   ]
  },
  {
   "cell_type": "code",
   "execution_count": 1414,
   "metadata": {},
   "outputs": [
    {
     "data": {
      "text/html": [
       "<div>\n",
       "<style scoped>\n",
       "    .dataframe tbody tr th:only-of-type {\n",
       "        vertical-align: middle;\n",
       "    }\n",
       "\n",
       "    .dataframe tbody tr th {\n",
       "        vertical-align: top;\n",
       "    }\n",
       "\n",
       "    .dataframe thead th {\n",
       "        text-align: right;\n",
       "    }\n",
       "</style>\n",
       "<table border=\"1\" class=\"dataframe\">\n",
       "  <thead>\n",
       "    <tr style=\"text-align: right;\">\n",
       "      <th></th>\n",
       "      <th>Частота</th>\n",
       "    </tr>\n",
       "    <tr>\n",
       "      <th>Інтервал</th>\n",
       "      <th></th>\n",
       "    </tr>\n",
       "  </thead>\n",
       "  <tbody>\n",
       "    <tr>\n",
       "      <th>(5.0, 8.333333333333334)</th>\n",
       "      <td>9</td>\n",
       "    </tr>\n",
       "    <tr>\n",
       "      <th>(8.333333333333334, 11.666666666666668)</th>\n",
       "      <td>10</td>\n",
       "    </tr>\n",
       "    <tr>\n",
       "      <th>(11.666666666666668, 15.0)</th>\n",
       "      <td>6</td>\n",
       "    </tr>\n",
       "    <tr>\n",
       "      <th>(15.0, 18.333333333333336)</th>\n",
       "      <td>11</td>\n",
       "    </tr>\n",
       "    <tr>\n",
       "      <th>(18.333333333333336, 21.666666666666668)</th>\n",
       "      <td>6</td>\n",
       "    </tr>\n",
       "    <tr>\n",
       "      <th>(21.666666666666668, 25.0)</th>\n",
       "      <td>5</td>\n",
       "    </tr>\n",
       "  </tbody>\n",
       "</table>\n",
       "</div>"
      ],
      "text/plain": [
       "                                          Частота\n",
       "Інтервал                                         \n",
       "(5.0, 8.333333333333334)                        9\n",
       "(8.333333333333334, 11.666666666666668)        10\n",
       "(11.666666666666668, 15.0)                      6\n",
       "(15.0, 18.333333333333336)                     11\n",
       "(18.333333333333336, 21.666666666666668)        6\n",
       "(21.666666666666668, 25.0)                      5"
      ]
     },
     "execution_count": 1414,
     "metadata": {},
     "output_type": "execute_result"
    }
   ],
   "source": [
    "# 1. утворити інтервальний статистичний розподіл  variation_series\n",
    "def create_interval_statistical_distribution(variation_series, k):\n",
    "    a = min(variation_series)\n",
    "    b = max(variation_series)\n",
    "    h = (b - a) / k\n",
    "    intervals = [a + i * h for i in range(k + 1)]\n",
    "    frequency_table = {}\n",
    "    for i in range(k):\n",
    "        frequency_table[(intervals[i], intervals[i+1])] = len([x for x in variation_series if intervals[i] <= x < intervals[i+1]])\n",
    "    return frequency_table\n",
    "\n",
    "k = 6\n",
    "interval_statistical_distribution = create_interval_statistical_distribution(variation_series, k)\n",
    "interval_statistical_distribution = pd.DataFrame(list(interval_statistical_distribution.items()), columns=['Інтервал', 'Частота']).set_index('Інтервал')\n",
    "interval_statistical_distribution\n",
    "\n"
   ]
  }
 ],
 "metadata": {
  "kernelspec": {
   "display_name": "Python 3",
   "language": "python",
   "name": "python3"
  },
  "language_info": {
   "codemirror_mode": {
    "name": "ipython",
    "version": 3
   },
   "file_extension": ".py",
   "mimetype": "text/x-python",
   "name": "python",
   "nbconvert_exporter": "python",
   "pygments_lexer": "ipython3",
   "version": "3.10.8"
  }
 },
 "nbformat": 4,
 "nbformat_minor": 2
}
