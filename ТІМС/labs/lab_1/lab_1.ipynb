{
 "cells": [
  {
   "cell_type": "code",
   "execution_count": 2518,
   "metadata": {},
   "outputs": [],
   "source": [
    "import matplotlib.pyplot as plt\n",
    "import pandas as pd\n",
    "import numpy as np\n",
    "import math\n"
   ]
  },
  {
   "cell_type": "markdown",
   "metadata": {},
   "source": [
    "### Згенерувати вибірку заданого об’єму (не менше 50) з вказаного проміжку для дискретної статистичної змінної.\n"
   ]
  },
  {
   "cell_type": "code",
   "execution_count": 2519,
   "metadata": {},
   "outputs": [
    {
     "data": {
      "text/plain": [
       "[8,\n",
       " 6,\n",
       " 1,\n",
       " 10,\n",
       " 1,\n",
       " 8,\n",
       " 2,\n",
       " 8,\n",
       " 4,\n",
       " 8,\n",
       " 10,\n",
       " 5,\n",
       " 6,\n",
       " 5,\n",
       " 10,\n",
       " 3,\n",
       " 6,\n",
       " 1,\n",
       " 5,\n",
       " 1,\n",
       " 2,\n",
       " 8,\n",
       " 8,\n",
       " 2,\n",
       " 3,\n",
       " 5,\n",
       " 2,\n",
       " 2,\n",
       " 2,\n",
       " 10,\n",
       " 7,\n",
       " 4,\n",
       " 9,\n",
       " 6,\n",
       " 5,\n",
       " 10,\n",
       " 9,\n",
       " 5,\n",
       " 2,\n",
       " 6,\n",
       " 10,\n",
       " 3,\n",
       " 8,\n",
       " 2,\n",
       " 6,\n",
       " 10,\n",
       " 10,\n",
       " 9,\n",
       " 1,\n",
       " 6]"
      ]
     },
     "execution_count": 2519,
     "metadata": {},
     "output_type": "execute_result"
    }
   ],
   "source": [
    "def create_sample(size, start, end):\n",
    "    import random\n",
    "    return [random.randint(start, end) for _ in range(size)]\n",
    "\n",
    "sample = create_sample(50, 1, 10)\n",
    "sample"
   ]
  },
  {
   "cell_type": "markdown",
   "metadata": {},
   "source": [
    "# Завдання 1 (Дискретний розподіл)"
   ]
  },
  {
   "cell_type": "markdown",
   "metadata": {},
   "source": [
    "## Побудувати варіаційний ряд\n"
   ]
  },
  {
   "cell_type": "code",
   "execution_count": 2520,
   "metadata": {},
   "outputs": [
    {
     "data": {
      "text/plain": [
       "[1,\n",
       " 1,\n",
       " 1,\n",
       " 1,\n",
       " 1,\n",
       " 2,\n",
       " 2,\n",
       " 2,\n",
       " 2,\n",
       " 2,\n",
       " 2,\n",
       " 2,\n",
       " 2,\n",
       " 3,\n",
       " 3,\n",
       " 3,\n",
       " 4,\n",
       " 4,\n",
       " 5,\n",
       " 5,\n",
       " 5,\n",
       " 5,\n",
       " 5,\n",
       " 5,\n",
       " 6,\n",
       " 6,\n",
       " 6,\n",
       " 6,\n",
       " 6,\n",
       " 6,\n",
       " 6,\n",
       " 7,\n",
       " 8,\n",
       " 8,\n",
       " 8,\n",
       " 8,\n",
       " 8,\n",
       " 8,\n",
       " 8,\n",
       " 9,\n",
       " 9,\n",
       " 9,\n",
       " 10,\n",
       " 10,\n",
       " 10,\n",
       " 10,\n",
       " 10,\n",
       " 10,\n",
       " 10,\n",
       " 10]"
      ]
     },
     "execution_count": 2520,
     "metadata": {},
     "output_type": "execute_result"
    }
   ],
   "source": [
    "\n",
    "def generate_variation_series(sample):\n",
    "    return sorted(sample)\n",
    "\n",
    "variation_series = generate_variation_series(sample)\n",
    "variation_series"
   ]
  },
  {
   "cell_type": "markdown",
   "metadata": {},
   "source": [
    "## Побудувати частотну таблицю\n"
   ]
  },
  {
   "cell_type": "code",
   "execution_count": 2521,
   "metadata": {},
   "outputs": [
    {
     "data": {
      "text/html": [
       "<div>\n",
       "<style scoped>\n",
       "    .dataframe tbody tr th:only-of-type {\n",
       "        vertical-align: middle;\n",
       "    }\n",
       "\n",
       "    .dataframe tbody tr th {\n",
       "        vertical-align: top;\n",
       "    }\n",
       "\n",
       "    .dataframe thead th {\n",
       "        text-align: right;\n",
       "    }\n",
       "</style>\n",
       "<table border=\"1\" class=\"dataframe\">\n",
       "  <thead>\n",
       "    <tr style=\"text-align: right;\">\n",
       "      <th></th>\n",
       "      <th>y[i]</th>\n",
       "    </tr>\n",
       "    <tr>\n",
       "      <th>x[i]</th>\n",
       "      <th></th>\n",
       "    </tr>\n",
       "  </thead>\n",
       "  <tbody>\n",
       "    <tr>\n",
       "      <th>1</th>\n",
       "      <td>5</td>\n",
       "    </tr>\n",
       "    <tr>\n",
       "      <th>2</th>\n",
       "      <td>8</td>\n",
       "    </tr>\n",
       "    <tr>\n",
       "      <th>3</th>\n",
       "      <td>3</td>\n",
       "    </tr>\n",
       "    <tr>\n",
       "      <th>4</th>\n",
       "      <td>2</td>\n",
       "    </tr>\n",
       "    <tr>\n",
       "      <th>5</th>\n",
       "      <td>6</td>\n",
       "    </tr>\n",
       "    <tr>\n",
       "      <th>6</th>\n",
       "      <td>7</td>\n",
       "    </tr>\n",
       "    <tr>\n",
       "      <th>7</th>\n",
       "      <td>1</td>\n",
       "    </tr>\n",
       "    <tr>\n",
       "      <th>8</th>\n",
       "      <td>7</td>\n",
       "    </tr>\n",
       "    <tr>\n",
       "      <th>9</th>\n",
       "      <td>3</td>\n",
       "    </tr>\n",
       "    <tr>\n",
       "      <th>10</th>\n",
       "      <td>8</td>\n",
       "    </tr>\n",
       "  </tbody>\n",
       "</table>\n",
       "</div>"
      ],
      "text/plain": [
       "      y[i]\n",
       "x[i]      \n",
       "1        5\n",
       "2        8\n",
       "3        3\n",
       "4        2\n",
       "5        6\n",
       "6        7\n",
       "7        1\n",
       "8        7\n",
       "9        3\n",
       "10       8"
      ]
     },
     "execution_count": 2521,
     "metadata": {},
     "output_type": "execute_result"
    }
   ],
   "source": [
    "def generate_frequency_table(variation_series):\n",
    "    frequency_table = {}\n",
    "    for i in variation_series:\n",
    "        if i in frequency_table:\n",
    "            frequency_table[i] += 1\n",
    "        else:\n",
    "            frequency_table[i] = 1\n",
    "    return frequency_table\n",
    "\n",
    "frequency_table = generate_frequency_table(variation_series)\n",
    "frequency_table = pd.DataFrame(list(frequency_table.items()), columns=['x[i]', 'y[i]']).set_index('x[i]')\n",
    "frequency_table\n"
   ]
  },
  {
   "cell_type": "markdown",
   "metadata": {},
   "source": [
    "## Представити графічно статистичний матеріал\n"
   ]
  },
  {
   "cell_type": "code",
   "execution_count": 2522,
   "metadata": {},
   "outputs": [
    {
     "data": {
      "image/png": "[encoded data removed]",
      "text/plain": [
       "<Figure size 1500x500 with 2 Axes>"
      ]
     },
     "metadata": {},
     "output_type": "display_data"
    }
   ],
   "source": [
    "def draw_statistical_material(frequency_table):\n",
    "    _, (ax1,ax2) = plt.subplots(1,2, figsize=(15, 5))\n",
    "    ax1.bar(frequency_table.index, frequency_table['y[i]'])\n",
    "    ax1.set_xlabel('x[i]')\n",
    "    ax1.set_ylabel('y[i]')\n",
    "    ax1.set_title('Гістограма частот')\n",
    "\n",
    "    ax2.plot(frequency_table.index, frequency_table['y[i]'])\n",
    "    ax2.set_xlabel('Значення')\n",
    "    ax2.set_ylabel('Частота')\n",
    "    ax2.set_title('Полігон частот')\n",
    "    plt.show()\n",
    "\n",
    "draw_statistical_material(frequency_table)\n",
    "\n"
   ]
  },
  {
   "cell_type": "markdown",
   "metadata": {},
   "source": [
    "## побудувати графік емпіричної функції розподілу;\n"
   ]
  },
  {
   "cell_type": "code",
   "execution_count": 2523,
   "metadata": {},
   "outputs": [
    {
     "data": {
      "image/png": "[encoded data removed]",
      "text/plain": [
       "<Figure size 640x480 with 1 Axes>"
      ]
     },
     "metadata": {},
     "output_type": "display_data"
    }
   ],
   "source": [
    "cumulative_frequencies = [i/len(sample) for i in range(1, len(sample) + 1)]\n",
    "\n",
    "def show_plot(values, cumulative_probs):\n",
    "    # Побудова першої точки\n",
    "    plt.plot([values[0]]*2, [0, cumulative_probs[0]])\n",
    "\n",
    "    # Побудова горизонтальних сегментів для емпіричного розподілу\n",
    "    for i in range(1, len(values)):\n",
    "        plt.plot([values[i-1], values[i]], [cumulative_probs[i-1], cumulative_probs[i-1]])\n",
    "        plt.plot([values[i], values[i]], [cumulative_probs[i-1], cumulative_probs[i]])\n",
    "\n",
    "    # Продовження лінії вправо\n",
    "    plt.plot([values[-1], values[-1]+5], [cumulative_probs[-1], cumulative_probs[-1]])\n",
    "\n",
    "    # Побудова вертикальних штрихованих ліній на кожному значенні\n",
    "    for i in range(len(values)):\n",
    "        plt.plot([values[i]]*2, [0, cumulative_probs[i]], linestyle='dashed')\n",
    "\n",
    "    # Побудова осі x\n",
    "    plt.plot([0, values[-1]+5], [0, 0])\n",
    "\n",
    "    plt.show()\n",
    "\n",
    "show_plot(variation_series, cumulative_frequencies)\n"
   ]
  },
  {
   "cell_type": "markdown",
   "metadata": {},
   "source": [
    "## обчислити числові характеристики дискретного розподілу."
   ]
  },
  {
   "cell_type": "code",
   "execution_count": 2524,
   "metadata": {},
   "outputs": [
    {
     "name": "stdout",
     "output_type": "stream",
     "text": [
      "\n",
      "Числові характеристики:\n",
      "Медіана: 5.5\n",
      "Мода: [2, 10]\n",
      "Вибіркове середнє значення: 5.6\n",
      "Розмах: 9\n",
      "Девіація: 470.0\n",
      "Варіанса: 9.591836734693878\n",
      "Стандарт: 3.0970690555255427\n",
      "Варіація: 0.5530480456295612\n",
      "Вибіркова дисперсія: 9.4\n",
      "Вибіркове середнє квадратичне відхилення: 3.0659419433511785\n",
      "Центральний момент другого порядку: 9.4\n",
      "Центральний момент третього порядку: -0.45599999999999224\n",
      "Центральний момент четвертого порядку: 147.38080000000002\n",
      "Асиметрія: -0.01582242560172152\n",
      "Ексцес: -1.3320416478044363\n"
     ]
    }
   ],
   "source": [
    "# 4. обчислити числові характеристики дискретного розподілу.\n",
    "#медіана\n",
    "def find_median(a):\n",
    "    a_len = len(a)\n",
    "    return (a[int((a_len-1)/2)] + a[int(a_len/2)]) / 2\n",
    "\n",
    "#мода\n",
    "def find_moda(counts, distinct_v):\n",
    "    to_return = []\n",
    "    for i in range(len(counts)):\n",
    "        if counts[i] == np.max(counts):\n",
    "            to_return.append(distinct_v[i])\n",
    "    return to_return\n",
    "\n",
    "#вибіркове середнє\n",
    "def average_(distinct_v, counts):\n",
    "    to_return = 0\n",
    "    for i in range(len(distinct_v)):\n",
    "        to_return += (distinct_v[i] * counts[i])\n",
    "    return to_return/sum_(counts)\n",
    "\n",
    "#розмах\n",
    "def scope(distinct_v):\n",
    "    return np.max(distinct_v) - np.min(distinct_v)\n",
    "\n",
    "# об'єм\n",
    "def sum_(lst):\n",
    "    to_return = 0\n",
    "    for i in lst:\n",
    "        to_return += i\n",
    "    return to_return\n",
    "\n",
    "#девіація\n",
    "def deviation(distinct_v, counts):\n",
    "    to_return = 0\n",
    "    avg = average_(distinct_v, counts)\n",
    "    for i in range(len(distinct_v)):\n",
    "        to_return += (((distinct_v[i] - avg) ** 2) * counts[i])\n",
    "    return to_return\n",
    "\n",
    "#варіанса\n",
    "def variance(distinct_v, counts):\n",
    "    return deviation(distinct_v, counts)/(sum_(counts)-1)\n",
    "\n",
    "#стандарт\n",
    "def standart(distinct_v, counts):\n",
    "    return math.sqrt(variance(distinct_v, counts))\n",
    "\n",
    "#варіація\n",
    "def variation(distinct_v, counts):\n",
    "    return standart(distinct_v, counts) / average_(distinct_v, counts)\n",
    "\n",
    "#вибіркова дисперсія\n",
    "def selective_dispersion(distinct_v, counts):\n",
    "    return deviation(distinct_v, counts)/sum_(counts)\n",
    "\n",
    "#вибіркове середнє квадратичне відхилення\n",
    "def selective_average_quadratic_deviation(distinct_v, counts):\n",
    "    return math.sqrt(selective_dispersion(distinct_v, counts))\n",
    "\n",
    "#центральний момент k-того порядку\n",
    "def m_k(k, distinct_v, counts):\n",
    "    to_return = 0\n",
    "    _avg = average_(distinct_v, counts)\n",
    "    for i in range(len(distinct_v)):\n",
    "        to_return += ((distinct_v[i] - _avg) ** k) * counts[i]\n",
    "    return to_return/sum_(counts)\n",
    "\n",
    "# асиметрія\n",
    "def asymetry(distinct_v, counts):\n",
    "    return m_k(3, distinct_v, counts) / (m_k(2, distinct_v, counts) ** (3/2))\n",
    "\n",
    "# ексцес\n",
    "def excess(distinct_v, counts):\n",
    "    return m_k(4, distinct_v, counts) / (m_k(2, distinct_v, counts) ** (2)) - 3\n",
    "\n",
    "def print_characteristics(distinct_values, counts):\n",
    "    print(\"\\nЧислові характеристики:\")\n",
    "    print(\"Медіана: \" + str(find_median(distinct_values)))\n",
    "    print(\"Мода: \" + str(find_moda(counts, distinct_values)))\n",
    "    print(\"Вибіркове середнє значення: \" + str(average_(distinct_values, counts)))\n",
    "    print(\"Розмах: \" + str(scope(distinct_values)))\n",
    "    print(\"Девіація: \" + str(deviation(distinct_values, counts)))\n",
    "    print(\"Варіанса: \" + str(variance(distinct_values, counts)))\n",
    "    print(\"Стандарт: \" + str(standart(distinct_values, counts)))\n",
    "    print(\"Варіація: \" + str(variation(distinct_values, counts)))\n",
    "    print(\"Вибіркова дисперсія: \" + str(selective_dispersion(distinct_values, counts)))\n",
    "    print(\"Вибіркове середнє квадратичне відхилення: \" + str(selective_average_quadratic_deviation(distinct_values, counts)))\n",
    "    print(\"Центральний момент другого порядку: \" + str(m_k(2, distinct_values, counts)))\n",
    "    print(\"Центральний момент третього порядку: \" + str(m_k(3, distinct_values, counts)))\n",
    "    print(\"Центральний момент четвертого порядку: \" + str(m_k(4, distinct_values, counts)))\n",
    "    print(\"Асиметрія: \" + str(asymetry(distinct_values, counts)))\n",
    "    print(\"Ексцес: \" + str(excess(distinct_values, counts)))\n",
    "\n",
    "print_characteristics(np.array(list(frequency_table.index)), np.array(list(frequency_table['y[i]'])))\n",
    "\n",
    "\n"
   ]
  },
  {
   "cell_type": "markdown",
   "metadata": {},
   "source": [
    "## Квантилі"
   ]
  },
  {
   "cell_type": "code",
   "execution_count": 2525,
   "metadata": {},
   "outputs": [
    {
     "name": "stdout",
     "output_type": "stream",
     "text": [
      "Децилі: [2, 2, 3, 5, 6, 6, 8, 9, 10]\n",
      "Інтердецильна широта: 8\n",
      "\n"
     ]
    }
   ],
   "source": [
    "def calculate_deciles(a):\n",
    "    if len(a) % 10 == 0:\n",
    "        return [a[int(len(a) / 10 * (i + 1))] for i in range(9)]\n",
    "    else:\n",
    "        return []\n",
    "\n",
    "def get_deciles(a):\n",
    "    deciles = calculate_deciles(a)\n",
    "    if deciles:\n",
    "        print(f\"Децилі: {deciles}\")\n",
    "        print(f\"Інтердецильна широта: {deciles[-1] - deciles[0]}\\n\")\n",
    "    \n",
    "get_deciles(variation_series)\n"
   ]
  },
  {
   "cell_type": "markdown",
   "metadata": {},
   "source": [
    "# Завдання 2 (Неперервний розподіл)"
   ]
  },
  {
   "cell_type": "markdown",
   "metadata": {},
   "source": [
    "## Утворити інтервальний статистичний розподіл"
   ]
  },
  {
   "cell_type": "code",
   "execution_count": 2526,
   "metadata": {},
   "outputs": [
    {
     "data": {
      "text/html": [
       "<div>\n",
       "<style scoped>\n",
       "    .dataframe tbody tr th:only-of-type {\n",
       "        vertical-align: middle;\n",
       "    }\n",
       "\n",
       "    .dataframe tbody tr th {\n",
       "        vertical-align: top;\n",
       "    }\n",
       "\n",
       "    .dataframe thead th {\n",
       "        text-align: right;\n",
       "    }\n",
       "</style>\n",
       "<table border=\"1\" class=\"dataframe\">\n",
       "  <thead>\n",
       "    <tr style=\"text-align: right;\">\n",
       "      <th></th>\n",
       "      <th>Interval</th>\n",
       "      <th>Count</th>\n",
       "    </tr>\n",
       "  </thead>\n",
       "  <tbody>\n",
       "    <tr>\n",
       "      <th>0</th>\n",
       "      <td>[1.0, 4.0]</td>\n",
       "      <td>16</td>\n",
       "    </tr>\n",
       "    <tr>\n",
       "      <th>1</th>\n",
       "      <td>[4.0, 7.0]</td>\n",
       "      <td>15</td>\n",
       "    </tr>\n",
       "    <tr>\n",
       "      <th>2</th>\n",
       "      <td>[7.0, 10.0]</td>\n",
       "      <td>19</td>\n",
       "    </tr>\n",
       "  </tbody>\n",
       "</table>\n",
       "</div>"
      ],
      "text/plain": [
       "      Interval  Count\n",
       "0   [1.0, 4.0]     16\n",
       "1   [4.0, 7.0]     15\n",
       "2  [7.0, 10.0]     19"
      ]
     },
     "execution_count": 2526,
     "metadata": {},
     "output_type": "execute_result"
    }
   ],
   "source": [
    "def create_continuous_distribution(lst):\n",
    "    r = math.floor(math.log2(len(set(lst)))) # Кількість інтервалів\n",
    "    bins = np.linspace(min(lst), max(lst), r+1)\n",
    "    counts, intervals = np.histogram(lst, bins=bins)\n",
    "\n",
    "    df = pd.DataFrame({\n",
    "        'Interval': [pd.Interval(left=intervals[i], right=intervals[i+1], closed='both') for i in range(len(intervals)-1)],\n",
    "        'Count': counts\n",
    "    })\n",
    "\n",
    "    return df\n",
    "\n",
    "continuous_distribution = create_continuous_distribution(variation_series)\n",
    "continuous_distribution\n",
    "\n"
   ]
  },
  {
   "cell_type": "code",
   "execution_count": 2527,
   "metadata": {},
   "outputs": [
    {
     "data": {
      "image/png": "[encoded data removed]",
      "text/plain": [
       "<Figure size 640x480 with 1 Axes>"
      ]
     },
     "metadata": {},
     "output_type": "display_data"
    }
   ],
   "source": [
    "def draw_continuous_distribution(continuous_distribution):\n",
    "    plt.bar([str(interval) for interval in continuous_distribution['Interval']], continuous_distribution['Count'], color=['red', 'green', 'blue', 'yellow', 'orange'])\n",
    "    plt.xlabel('Інтервали')\n",
    "    plt.ylabel('Частота')\n",
    "    plt.title('Гістограма частот')\n",
    "    plt.show()\n",
    "\n",
    "draw_continuous_distribution(continuous_distribution)\n",
    "\n",
    "\n",
    "\n"
   ]
  },
  {
   "cell_type": "markdown",
   "metadata": {},
   "source": [
    "## Графік емпіричної функції розподілу"
   ]
  },
  {
   "cell_type": "code",
   "execution_count": 2528,
   "metadata": {},
   "outputs": [
    {
     "data": {
      "image/png": "[encoded data removed]",
      "text/plain": [
       "<Figure size 640x480 with 1 Axes>"
      ]
     },
     "metadata": {},
     "output_type": "display_data"
    }
   ],
   "source": [
    "def plot_empirical_distribution(df, min_value):\n",
    "    intervals = [min_value] + df['Interval'].apply(lambda x: x.right).tolist()\n",
    "    counts = df['Count'].tolist()\n",
    "    n = sum(counts)\n",
    "    cum_counts = [sum(counts[:i+1]) for i in range(len(counts))]\n",
    "    cum_freq = [c/n for c in cum_counts]\n",
    "\n",
    "    plt.plot(intervals, [0] + cum_freq)\n",
    "    plt.title('Емпірична функція розподілу')\n",
    "    plt.xlabel('Значення')\n",
    "    plt.ylabel('Частота')\n",
    "    plt.show()\n",
    "\n",
    "# Ваш DataFrame\n",
    "min_value = min(variation_series)  # замініть це на мінімальне значення вашого варіаційного ряду\n",
    "plot_empirical_distribution(continuous_distribution, min_value)"
   ]
  },
  {
   "cell_type": "markdown",
   "metadata": {},
   "source": [
    "## Числові характеристики."
   ]
  },
  {
   "cell_type": "code",
   "execution_count": 2529,
   "metadata": {},
   "outputs": [
    {
     "name": "stdout",
     "output_type": "stream",
     "text": [
      "\n",
      "Числові характеристики:\n",
      "Медіана: 6.052631578947368\n",
      "Мода: [7.521739130434782]\n",
      "Вибіркове середнє значення: 5.68\n",
      "Девіація: 313.38\n",
      "Варіанса: 6.395510204081632\n",
      "Стандарт: 2.5289345986169023\n",
      "Варіація: 0.4452349645452293\n",
      "Вибіркова дисперсія: 1.1192142857142857\n",
      "Вибіркове середнє квадратичне відхилення: 1.0579292441908796\n",
      "Центральний момент другого порядку: 6.2676\n",
      "Центральний момент третього порядку: -1.7703359999999964\n",
      "Центральний момент четвертого порядку: 56.755170719999995\n",
      "Асиметрія: -0.11282459755118725\n",
      "Ексцес: -1.555216109368242\n"
     ]
    }
   ],
   "source": [
    "# Числові характеристики:\n",
    "intervals = continuous_distribution['Interval'].apply(lambda x: (x.left, x.right)).tolist()\n",
    "c = continuous_distribution['Count'].tolist()\n",
    "\n",
    "\n",
    "def find_right_interval(lst):\n",
    "    counter = 0\n",
    "    interval_index = 0\n",
    "    \n",
    "    index_of_middle_element = len(lst)//2 if len(lst) % 2 == 1 else len(lst)/2-1\n",
    "    \n",
    "    for i in c:\n",
    "        if counter < index_of_middle_element:\n",
    "            counter += i\n",
    "            interval_index += 1\n",
    "        \n",
    "    return interval_index\n",
    "\n",
    "def sum_el(arr, n):\n",
    "    result = 0\n",
    "    for i in range(n):\n",
    "        result += arr[i]\n",
    "    return result\n",
    "\n",
    "def find_mediana_intervals():\n",
    "\n",
    "\n",
    "    index = find_right_interval(variation_series)\n",
    "    (x, y) = intervals[index]\n",
    "    n_m = c[index]\n",
    "    return x + (y-x)/n_m * (len(variation_series)/2 - sum_el(c, index))\n",
    "\n",
    "def index_of_max(lst):\n",
    "    to_return = 0\n",
    "    index = 0\n",
    "    max_v = 0\n",
    "    for i in lst:\n",
    "        if i > max_v:\n",
    "            max_v = i\n",
    "            to_return = index\n",
    "        index += 1\n",
    "    return to_return\n",
    "\n",
    "def return_indexes_of_max(lst):\n",
    "    max_value = lst[index_of_max(lst)]\n",
    "    to_return = []\n",
    "    for i in range(len(lst)):\n",
    "        if max_value == lst[i]:\n",
    "            to_return.append(i)\n",
    "    return to_return\n",
    "\n",
    "def most_modnyi():\n",
    "    indexes_of_most_modnyi = return_indexes_of_max(c)\n",
    "    return indexes_of_most_modnyi\n",
    "\n",
    "def find_moda_intervals():\n",
    "    counts = c\n",
    "\n",
    "    max_indexes = return_indexes_of_max(counts)\n",
    "    modas = []\n",
    "    for i in max_indexes:\n",
    "        (x, y) = intervals[i]\n",
    "        if i == 0:\n",
    "            modas.append(x + ((counts[i] - 0) / ((counts[i] - 0) + (counts[i] - counts[i + 1])) * (y - x)))\n",
    "        elif i == len(intervals) - 1:\n",
    "            modas.append(x + ((counts[i] - counts[i - 1]) / ((counts[i] - counts[i - 1]) + (counts[i] - 0)) * (y - x)))\n",
    "        else:\n",
    "            modas.append(x + ((counts[i] - counts[i - 1]) / ((counts[i] - counts[i - 1]) + (counts[i] - counts[i + 1])) * (y - x)))\n",
    "\n",
    "    return modas\n",
    "\n",
    "def get_midpoint(tpl):\n",
    "    return (tpl[0]+tpl[1])/2\n",
    "\n",
    "#вибіркове середнє\n",
    "def average_intervals():\n",
    "    to_return = 0\n",
    "\n",
    "    for i in range(len(intervals)):\n",
    "        to_return += (get_midpoint(intervals[i]) * c[i])\n",
    "    return to_return/sum_(c)\n",
    "\n",
    "#девіація\n",
    "def deviation_intervals():\n",
    "    to_return = 0\n",
    "    avg = average_intervals()\n",
    "    \n",
    "    for i in range(len(intervals)):\n",
    "        to_return += (((get_midpoint(intervals[i]) - avg) ** 2) * c[i])\n",
    "    \n",
    "    return to_return\n",
    "\n",
    "#варіанса\n",
    "def variance_intervals():\n",
    "    return deviation_intervals()/(sum_(c)-1)\n",
    "\n",
    "#стандарт\n",
    "def standart_intervals():\n",
    "    return math.sqrt(variance_intervals())\n",
    "\n",
    "#варіація\n",
    "def variation_intervals():\n",
    "    return standart_intervals() / average_intervals()\n",
    "def selective_dispersion_intervals():\n",
    "    return deviation_intervals()/sum_(c)\n",
    "\n",
    "#центральний момент k-того порядку\n",
    "def m_k_intervals(k, lst):\n",
    "    to_return = 0\n",
    "\n",
    "    avg = average_intervals()\n",
    "    \n",
    "    for i in range(len(intervals)):\n",
    "        to_return += ((get_midpoint(intervals[i]) - avg) ** k) * c[i]\n",
    "    return to_return/sum_(c)\n",
    "\n",
    "#вибіркова дисперсія\n",
    "def selective_dispersion_intervals():\n",
    "    return deviation_intervals()/sum_(variation_series)\n",
    "\n",
    "#вибіркове середнє квадратичне відхилення\n",
    "def selective_average_quadratic_deviation_intervals():\n",
    "    return math.sqrt(selective_dispersion_intervals())\n",
    "\n",
    "#асиметрія\n",
    "def asymetry_intervals():\n",
    "    return m_k_intervals(3, variation_series) / (m_k_intervals(2, variation_series) ** (3/2))\n",
    "\n",
    "#ексцес\n",
    "def excess_intervals():\n",
    "    return m_k_intervals(4, variation_series) / (m_k_intervals(2, variation_series) ** (2)) - 3\n",
    "\n",
    "print(\"\\nЧислові характеристики:\")\n",
    "print(\"Медіана: \" + str(find_mediana_intervals()))\n",
    "print(\"Мода: \" + str(find_moda_intervals()))\n",
    "print(\"Вибіркове середнє значення: \" + str(average_intervals()))\n",
    "print(\"Девіація: \" + str(deviation_intervals()))\n",
    "print(\"Варіанса: \" + str(variance_intervals()))\n",
    "print(\"Стандарт: \" + str(standart_intervals()))\n",
    "print(\"Варіація: \" + str(variation_intervals()))\n",
    "print(\"Вибіркова дисперсія: \" + str(selective_dispersion_intervals()))\n",
    "print(\"Вибіркове середнє квадратичне відхилення: \" + str(selective_average_quadratic_deviation_intervals()))\n",
    "print(\"Центральний момент другого порядку: \" + str(m_k_intervals(2, c)))\n",
    "print(\"Центральний момент третього порядку: \" + str(m_k_intervals(3, c)))\n",
    "print(\"Центральний момент четвертого порядку: \" + str(m_k_intervals(4, c)))\n",
    "print(\"Асиметрія: \" + str(asymetry_intervals()))\n",
    "print(\"Ексцес: \" + str(excess_intervals()))"
   ]
  }
 ],
 "metadata": {
  "kernelspec": {
   "display_name": "Python 3",
   "language": "python",
   "name": "python3"
  },
  "language_info": {
   "codemirror_mode": {
    "name": "ipython",
    "version": 3
   },
   "file_extension": ".py",
   "mimetype": "text/x-python",
   "name": "python",
   "nbconvert_exporter": "python",
   "pygments_lexer": "ipython3",
   "version": "3.10.8"
  }
 },
 "nbformat": 4,
 "nbformat_minor": 2
}
